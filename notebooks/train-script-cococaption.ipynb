{
 "cells": [
  {
   "cell_type": "code",
   "execution_count": null,
   "metadata": {},
   "outputs": [],
   "source": [
    "import torch\n",
    "import pandas as pd\n",
    "import yaml\n",
    "from pathlib import Path\n",
    "from sklearn.model_selection import train_test_split\n",
    "from transformers import (\n",
    "    AutoModelForCausalLM, Blip2Model, BlipImageProcessor, \n",
    "    AutoTokenizer, BitsAndBytesConfig\n",
    ")\n",
    "from peft import LoraConfig, get_peft_model\n",
    "from datasets import load_dataset\n",
    "from torch.utils.data import Dataset, DataLoader, Subset\n",
    "\n",
    "# From src dir\n",
    "from model import BLIP2ForPhi, setup_model, select_train_params\n",
    "from dataset import ImageCaptioningDataset, get_datasets\n",
    "from trainer import CustomTrainer\n"
   ]
  },
  {
   "cell_type": "code",
   "execution_count": 3,
   "metadata": {
    "execution": {
     "iopub.execute_input": "2025-07-06T22:31:55.077924Z",
     "iopub.status.busy": "2025-07-06T22:31:55.077357Z",
     "iopub.status.idle": "2025-07-06T22:31:55.081578Z",
     "shell.execute_reply": "2025-07-06T22:31:55.080865Z",
     "shell.execute_reply.started": "2025-07-06T22:31:55.077903Z"
    },
    "trusted": true
   },
   "outputs": [],
   "source": [
    "import os\n",
    "os.environ[\"HF_TOKEN\"] = \"TOKEN ID\""
   ]
  },
  {
   "cell_type": "code",
   "execution_count": 6,
   "metadata": {
    "execution": {
     "iopub.execute_input": "2025-07-06T22:32:05.402493Z",
     "iopub.status.busy": "2025-07-06T22:32:05.401964Z",
     "iopub.status.idle": "2025-07-06T22:32:28.937898Z",
     "shell.execute_reply": "2025-07-06T22:32:28.937326Z",
     "shell.execute_reply.started": "2025-07-06T22:32:05.402471Z"
    },
    "trusted": true
   },
   "outputs": [
    {
     "name": "stderr",
     "output_type": "stream",
     "text": [
      "2025-07-06 22:32:16.629491: E external/local_xla/xla/stream_executor/cuda/cuda_fft.cc:477] Unable to register cuFFT factory: Attempting to register factory for plugin cuFFT when one has already been registered\n",
      "WARNING: All log messages before absl::InitializeLog() is called are written to STDERR\n",
      "E0000 00:00:1751841136.824421      88 cuda_dnn.cc:8310] Unable to register cuDNN factory: Attempting to register factory for plugin cuDNN when one has already been registered\n",
      "E0000 00:00:1751841136.881616      88 cuda_blas.cc:1418] Unable to register cuBLAS factory: Attempting to register factory for plugin cuBLAS when one has already been registered\n"
     ]
    }
   ],
   "source": [
    "config_path = '../configs/config.yaml' \n",
    "\n",
    "with open(config_path, 'r') as f:\n",
    "        config = yaml.safe_load(f)\n",
    "\n",
    "model, image_processor, tokenizer = setup_model(config)\n",
    "num_trainable_params = select_train_params(model, language_model=False)\n",
    "\n",
    "print(f\"training {num_trainable_params} params...\")\n",
    "print(f\"Preparing dataset...\")\n",
    "\n",
    "train_dataset, valid_dataset, train_debug, valid_debug = get_datasets(config['dataset']['image_captioning'], config, image_processor, tokenizer)\n",
    "\n",
    "trainable_params = filter(lambda p: p.requires_grad, model.parameters())\n",
    "optimizer = torch.optim.AdamW(\n",
    "    trainable_params, \n",
    "    lr=float(config['training']['learning_rate']), \n",
    "    weight_decay=config['training']['weight_decay']\n",
    ")\n",
    "\n",
    "trainer = CustomTrainer(\n",
    "        model=model,\n",
    "        optimizer=optimizer,\n",
    "        tokenizer=tokenizer,\n",
    "        train_dataset=train_debug,\n",
    "        val_dataset=valid_debug,\n",
    "        dataset_name=config['dataset']['image_captioning'],\n",
    "        batch_size=config['training']['batch_size'],\n",
    "        save_dir=config['path']['save_dir'],\n",
    "        repo_id=config['hf']['repo_id']\n",
    "    )\n",
    "\n",
    "print(\"Starting training...\")\n",
    "trainer.train(\n",
    "    num_epochs=config['training']['num_epochs'],\n",
    "    resume_from_checkpoint=config['path'].get('resume_from_checkpoint'),\n",
    ")\n",
    "print(\"Training finished!\")"
   ]
  },
  {
   "cell_type": "code",
   "execution_count": null,
   "metadata": {
    "trusted": true
   },
   "outputs": [],
   "source": []
  }
 ],
 "metadata": {
  "kaggle": {
   "accelerator": "gpu",
   "dataSources": [],
   "dockerImageVersionId": 31041,
   "isGpuEnabled": true,
   "isInternetEnabled": true,
   "language": "python",
   "sourceType": "notebook"
  },
  "kernelspec": {
   "display_name": "Python 3",
   "language": "python",
   "name": "python3"
  },
  "language_info": {
   "codemirror_mode": {
    "name": "ipython",
    "version": 3
   },
   "file_extension": ".py",
   "mimetype": "text/x-python",
   "name": "python",
   "nbconvert_exporter": "python",
   "pygments_lexer": "ipython3",
   "version": "3.11.11"
  }
 },
 "nbformat": 4,
 "nbformat_minor": 4
}
